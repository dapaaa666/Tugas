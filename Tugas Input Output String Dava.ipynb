{
 "cells": [
  {
   "cell_type": "code",
   "execution_count": 1,
   "id": "cf9ce29d-be95-4b16-880c-865b0311ada6",
   "metadata": {
    "scrolled": true
   },
   "outputs": [
    {
     "name": "stdin",
     "output_type": "stream",
     "text": [
      "masukan nama:  Moch. Dava Dwi Putra\n",
      "tanggal lahir:  31 Juli 2005\n",
      "jenis kelamin:  Pria\n",
      "alamat:  Desa Cibatu\n"
     ]
    }
   ],
   "source": [
    "nama = input(\"masukan nama: \")\n",
    "tgl_lahir = input(\"tanggal lahir: \")\n",
    "jenis_kelamin = input(\"jenis kelamin: \")\n",
    "alamat = input(\"alamat: \")"
   ]
  },
  {
   "cell_type": "code",
   "execution_count": 2,
   "id": "d295adec-1978-48b2-95cd-f6356d1e1f6c",
   "metadata": {},
   "outputs": [
    {
     "name": "stdout",
     "output_type": "stream",
     "text": [
      "putra nusa \n",
      "NIVERSITAS NSA PTRA SKABUMI\n",
      "SUKABUMI PUTRA NUSA UNIVERSITAS \n",
      "UNPS\n",
      "TAS SAPU BUMI\n"
     ]
    }
   ],
   "source": [
    "univ =\"UNIVERSITAS NUSA PUTRA SUKABUMI\"\n",
    "kalimat1 =univ.lower()\n",
    "print(kalimat1[17:22],kalimat1[12:17])\n",
    "kalimat2 = univ.upper()\n",
    "print(kalimat2[1:11],kalimat2[12]+kalimat2[14:16],kalimat2[17]+kalimat2[19:22],kalimat2[23]+kalimat2[25:31])\n",
    "kalimat3 = univ.upper()\n",
    "print(kalimat3[23:31],kalimat3[17:22],kalimat3[12:16],univ[0:12])\n",
    "kalimat4 = univ.upper()\n",
    "print(kalimat3[0]+kalimat3[12]+kalimat3[17]+kalimat3[23])\n",
    "kalimat4 = univ.upper()\n",
    "print(kalimat4[8:11],kalimat4[14:16]+kalimat4[17:19],kalimat4[27:])"
   ]
  }
 ],
 "metadata": {
  "kernelspec": {
   "display_name": "Python 3 (ipykernel)",
   "language": "python",
   "name": "python3"
  },
  "language_info": {
   "codemirror_mode": {
    "name": "ipython",
    "version": 3
   },
   "file_extension": ".py",
   "mimetype": "text/x-python",
   "name": "python",
   "nbconvert_exporter": "python",
   "pygments_lexer": "ipython3",
   "version": "3.11.7"
  }
 },
 "nbformat": 4,
 "nbformat_minor": 5
}
